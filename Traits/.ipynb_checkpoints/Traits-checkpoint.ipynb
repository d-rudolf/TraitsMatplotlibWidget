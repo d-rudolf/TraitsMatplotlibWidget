{
 "cells": [
  {
   "cell_type": "code",
   "execution_count": 1,
   "metadata": {
    "collapsed": true
   },
   "outputs": [],
   "source": [
    "from traits.api import Delegate, HasTraits, Instance, Int, Str"
   ]
  },
  {
   "cell_type": "code",
   "execution_count": 2,
   "metadata": {
    "collapsed": true
   },
   "outputs": [],
   "source": [
    "class Parent ( HasTraits ):\n",
    "\n",
    "    # INITIALIZATION: last_name' is initialized to '':\n",
    "    last_name = Str( '' )\n",
    "\n",
    "\n",
    "class Child ( HasTraits ):\n",
    "\n",
    "    age = Int\n",
    "\n",
    "    # VALIDATION: 'father' must be a Parent instance:\n",
    "    father = Instance( Parent )\n",
    "\n",
    "    # DELEGATION: 'last_name' is delegated to father's 'last_name':\n",
    "    last_name = Delegate( 'father' )\n",
    "\n",
    "    # NOTIFICATION: This method is called when 'age' changes:\n",
    "    def _age_changed ( self, old, new ):\n",
    "        print 'Age changed from %s to %s ' % ( old, new )"
   ]
  },
  {
   "cell_type": "code",
   "execution_count": 3,
   "metadata": {
    "collapsed": true
   },
   "outputs": [],
   "source": [
    "# Set up the example:\n",
    "joe = Parent()\n",
    "joe.last_name = 'Johnson'\n",
    "moe = Child()\n",
    "moe.father = joe"
   ]
  },
  {
   "cell_type": "code",
   "execution_count": 4,
   "metadata": {
    "collapsed": false
   },
   "outputs": [
    {
     "name": "stdout",
     "output_type": "stream",
     "text": [
      "Moe's last name is Johnson \n"
     ]
    }
   ],
   "source": [
    "# DELEGATION in action:\n",
    "print \"Moe's last name is %s \" % moe.last_name"
   ]
  },
  {
   "cell_type": "code",
   "execution_count": 5,
   "metadata": {
    "collapsed": false
   },
   "outputs": [
    {
     "name": "stdout",
     "output_type": "stream",
     "text": [
      "Age changed from 0 to 10 \n"
     ]
    }
   ],
   "source": [
    "# NOTIFICATION in action\n",
    "moe.age = 10"
   ]
  },
  {
   "cell_type": "code",
   "execution_count": 6,
   "metadata": {
    "collapsed": false
   },
   "outputs": [
    {
     "name": "stdout",
     "output_type": "stream",
     "text": [
      "Age changed from 10 to 2 \n"
     ]
    },
    {
     "data": {
      "text/plain": [
       "True"
      ]
     },
     "execution_count": 6,
     "metadata": {},
     "output_type": "execute_result"
    }
   ],
   "source": [
    "# VISUALIZATION: Displays a UI for editing moe's attributes\n",
    "# (if a supported GUI toolkit is installed)\n",
    "moe.configure_traits()"
   ]
  },
  {
   "cell_type": "code",
   "execution_count": 20,
   "metadata": {
    "collapsed": false
   },
   "outputs": [
    {
     "data": {
      "image/png": "[encoded data removed]",
      "text/plain": [
       "<matplotlib.figure.Figure at 0xcf79d30>"
      ]
     },
     "metadata": {},
     "output_type": "display_data"
    }
   ],
   "source": [
    "from PIL import Image, ImageDraw\n",
    "import matplotlib.pyplot as plt\n",
    "import numpy as np\n",
    "\n",
    "\n",
    "directory = 'D://Users//D.Rudolf-Lvovsky//Denis//Juelich-2017//Data//PEEM_space_charge//'\n",
    "im = Image.open(directory + '000_BiTe_EUV_1-8kV_1500Hz_001.tif')\n",
    "\n",
    "draw = ImageDraw.Draw(im)\n",
    "draw.line((0, 0) + im.size, fill=128)\n",
    "#draw.line((0, im.size[1], im.size[0], 0), fill=128)\n",
    "#del draw\n",
    "\n",
    "width = im.size[0]\n",
    "height = im.size[1]\n",
    "\n",
    "image = np.array(im.getdata()).reshape(height,width)\n",
    "plt.pcolormesh(image)\n",
    "plt.show()"
   ]
  },
  {
   "cell_type": "code",
   "execution_count": null,
   "metadata": {
    "collapsed": true
   },
   "outputs": [],
   "source": []
  }
 ],
 "metadata": {
  "anaconda-cloud": {},
  "kernelspec": {
   "display_name": "Python [conda root]",
   "language": "python",
   "name": "conda-root-py"
  },
  "language_info": {
   "codemirror_mode": {
    "name": "ipython",
    "version": 2
   },
   "file_extension": ".py",
   "mimetype": "text/x-python",
   "name": "python",
   "nbconvert_exporter": "python",
   "pygments_lexer": "ipython2",
   "version": "2.7.12"
  }
 },
 "nbformat": 4,
 "nbformat_minor": 0
}
