{
 "cells": [
  {
   "cell_type": "code",
   "execution_count": null,
   "metadata": {
    "collapsed": true
   },
   "outputs": [],
   "source": [
    "from traits.api import Delegate, HasTraits, Instance, Int, Str"
   ]
  },
  {
   "cell_type": "code",
   "execution_count": null,
   "metadata": {
    "collapsed": true
   },
   "outputs": [],
   "source": [
    "class Parent ( HasTraits ):\n",
    "\n",
    "    # INITIALIZATION: last_name' is initialized to '':\n",
    "    last_name = Str( '' )\n",
    "\n",
    "\n",
    "class Child ( HasTraits ):\n",
    "\n",
    "    age = Int\n",
    "\n",
    "    # VALIDATION: 'father' must be a Parent instance:\n",
    "    father = Instance( Parent )\n",
    "\n",
    "    # DELEGATION: 'last_name' is delegated to father's 'last_name':\n",
    "    last_name = Delegate( 'father' )\n",
    "\n",
    "    # NOTIFICATION: This method is called when 'age' changes:\n",
    "    def _age_changed ( self, old, new ):\n",
    "        print 'Age changed from %s to %s ' % ( old, new )"
   ]
  },
  {
   "cell_type": "code",
   "execution_count": null,
   "metadata": {
    "collapsed": true
   },
   "outputs": [],
   "source": [
    "# Set up the example:\n",
    "joe = Parent()\n",
    "joe.last_name = 'Johnson'\n",
    "moe = Child()\n",
    "moe.father = joe"
   ]
  },
  {
   "cell_type": "code",
   "execution_count": null,
   "metadata": {
    "collapsed": false
   },
   "outputs": [],
   "source": [
    "# DELEGATION in action:\n",
    "print \"Moe's last name is %s \" % moe.last_name"
   ]
  },
  {
   "cell_type": "code",
   "execution_count": null,
   "metadata": {
    "collapsed": false
   },
   "outputs": [],
   "source": [
    "# NOTIFICATION in action\n",
    "moe.age = 10"
   ]
  },
  {
   "cell_type": "code",
   "execution_count": null,
   "metadata": {
    "collapsed": false
   },
   "outputs": [],
   "source": [
    "# VISUALIZATION: Displays a UI for editing moe's attributes\n",
    "# (if a supported GUI toolkit is installed)\n",
    "moe.configure_traits()"
   ]
  },
  {
   "cell_type": "code",
   "execution_count": null,
   "metadata": {
    "collapsed": false
   },
   "outputs": [],
   "source": [
    "from PIL import Image, ImageDraw\n",
    "import matplotlib.pyplot as plt\n",
    "import numpy as np\n",
    "\n",
    "\n",
    "#directory = 'D://Users//D.Rudolf-Lvovsky//Denis//Juelich-2017//Data//PEEM_space_charge//'\n",
    "#im = Image.open(directory + '003_BiTe_EUV_2-4kV_1500Hz_001.tif')\n",
    "#\n",
    "directory = 'D://Users//D.Rudolf-Lvovsky//Denis//Juelich-2017//Simulations//TraitsMatplotlibWidget//Test//'\n",
    "im = Image.open(directory + 'test.png')\n",
    "\n",
    "\n",
    "#draw = ImageDraw.Draw(im)\n",
    "#draw.line((0, 0) + im.size, fill=128)\n",
    "#draw.line((0, im.size[1], im.size[0], 0), fill=128)\n",
    "#del draw\n",
    "\n",
    "width = im.size[0]\n",
    "height = im.size[1]\n",
    "print width\n",
    "print height\n",
    "\n",
    "image = np.array(im.getdata())[:,0].reshape(height,width)\n",
    "plt.imshow(image)\n",
    "#plt.pcolormesh(image)\n",
    "plt.colorbar()\n",
    "plt.show()"
   ]
  },
  {
   "cell_type": "code",
   "execution_count": null,
   "metadata": {
    "collapsed": false
   },
   "outputs": [],
   "source": [
    "# create the data points for the line\n",
    "#x1,x2 = 290,410 \n",
    "#y1,y2 =290,300\n",
    "x1,x2 = 120,500 \n",
    "y1,y2 =400,1\n",
    "t = np.arange(0,1,1e-3)\n",
    "x = x1+(x2-x1)*t\n",
    "y = y1+(y2-y1)*t\n",
    "#grid_x, grid_y = np.meshgrid(x,y)\n",
    "#grid_x, grid_y = grid_x.T, grid_y.T"
   ]
  },
  {
   "cell_type": "code",
   "execution_count": null,
   "metadata": {
    "collapsed": false
   },
   "outputs": [],
   "source": [
    "# data points at which to interpolate\n",
    "xx = [[i] for i in x]\n",
    "yy = [[i] for i in y]\n",
    "x_i = np.concatenate((yy,xx), axis = 1)\n",
    "x_i.shape"
   ]
  },
  {
   "cell_type": "code",
   "execution_count": null,
   "metadata": {
    "collapsed": true
   },
   "outputs": [],
   "source": [
    "# calculate the distance vector\n",
    "def get_dist_vec(points):\n",
    "    x = []\n",
    "    for i in range(0,len(points)):\n",
    "        diff = points[i]-points[0]\n",
    "        dist = np.sqrt(diff[0]**2 + diff[1]**2)\n",
    "        x.append(dist)\n",
    "    return x"
   ]
  },
  {
   "cell_type": "code",
   "execution_count": null,
   "metadata": {
    "collapsed": false
   },
   "outputs": [],
   "source": [
    "# make points of the image\n",
    "list_y, list_x =range(1,height+1,1), range(1,width+1,1) \n",
    "points = np.array([[i,j] for i in list_y for j in list_x])\n",
    "points.shape"
   ]
  },
  {
   "cell_type": "code",
   "execution_count": null,
   "metadata": {
    "collapsed": false
   },
   "outputs": [],
   "source": [
    "# values at points\n",
    "values = image.flatten()"
   ]
  },
  {
   "cell_type": "code",
   "execution_count": null,
   "metadata": {
    "collapsed": false
   },
   "outputs": [],
   "source": [
    "import time\n",
    "from scipy.interpolate import griddata\n",
    "start = time.time()\n",
    "image_interpolated = griddata(points, values, x_i, method='nearest')\n",
    "end = time.time()\n",
    "'The interpolation took {} s.'.format(end-start)"
   ]
  },
  {
   "cell_type": "code",
   "execution_count": null,
   "metadata": {
    "collapsed": false
   },
   "outputs": [],
   "source": [
    "x_vec = get_dist_vec(x_i)\n",
    "plt.plot(x_vec,image_interpolated)\n",
    "plt.show()"
   ]
  },
  {
   "cell_type": "code",
   "execution_count": null,
   "metadata": {
    "collapsed": false
   },
   "outputs": [],
   "source": [
    "plt.imshow(image)\n",
    "plt.colorbar()\n",
    "plt.plot(x,y)\n",
    "plt.show()"
   ]
  },
  {
   "cell_type": "markdown",
   "metadata": {},
   "source": [
    "Interpolation with RectBivariateSpline"
   ]
  },
  {
   "cell_type": "code",
   "execution_count": null,
   "metadata": {
    "collapsed": false
   },
   "outputs": [],
   "source": [
    "import time\n",
    "from scipy.interpolate import RectBivariateSpline\n",
    "start = time.time()\n",
    "f = RectBivariateSpline(list_y,list_x,image)\n",
    "image_interpolated = f(y,x)\n",
    "end = time.time()\n",
    "'The interpolation took {} s.'.format(end-start)"
   ]
  },
  {
   "cell_type": "code",
   "execution_count": null,
   "metadata": {
    "collapsed": false
   },
   "outputs": [],
   "source": [
    "length = image_interpolated.shape[0]\n",
    "# get the diagonal \n",
    "coord = range(0, length, 1)"
   ]
  },
  {
   "cell_type": "code",
   "execution_count": null,
   "metadata": {
    "collapsed": false
   },
   "outputs": [],
   "source": [
    "plt.plot(image_interpolated[coord, coord])\n",
    "plt.show()"
   ]
  },
  {
   "cell_type": "code",
   "execution_count": null,
   "metadata": {
    "collapsed": false
   },
   "outputs": [],
   "source": [
    "plt.imshow(image_interpolated)\n",
    "plt.colorbar()\n",
    "#plt.plot(x,y)\n",
    "plt.show()"
   ]
  },
  {
   "cell_type": "markdown",
   "metadata": {},
   "source": [
    "Interpolation with interp2d"
   ]
  },
  {
   "cell_type": "code",
   "execution_count": null,
   "metadata": {
    "collapsed": false
   },
   "outputs": [],
   "source": [
    "from scipy import interpolate\n",
    "start = time.time()\n",
    "f = interpolate.interp2d(list_x, list_y, image, kind='cubic')\n",
    "image_interpolated = f(x,y)\n",
    "end = time.time()\n",
    "print end-start"
   ]
  },
  {
   "cell_type": "code",
   "execution_count": null,
   "metadata": {
    "collapsed": true
   },
   "outputs": [],
   "source": [
    "len_x = image_interpolated.shape[0]\n",
    "len_y = image_interpolated.shape[1]\n",
    "# get the diagonal \n",
    "x_coord = range(1, len_x, 1)\n",
    "y_coord = range(1, len_y, 1)"
   ]
  },
  {
   "cell_type": "code",
   "execution_count": null,
   "metadata": {
    "collapsed": false
   },
   "outputs": [],
   "source": [
    "plt.plot(image_interpolated[x_coord, y_coord])\n",
    "plt.show()"
   ]
  },
  {
   "cell_type": "code",
   "execution_count": null,
   "metadata": {
    "collapsed": false
   },
   "outputs": [],
   "source": [
    "plt.imshow(image_interpolated)\n",
    "plt.colorbar()\n",
    "#plt.plot(x,y)\n",
    "plt.show()"
   ]
  },
  {
   "cell_type": "markdown",
   "metadata": {},
   "source": [
    "Generate test edge"
   ]
  },
  {
   "cell_type": "code",
   "execution_count": 1,
   "metadata": {
    "collapsed": true
   },
   "outputs": [],
   "source": [
    "%matplotlib inline"
   ]
  },
  {
   "cell_type": "code",
   "execution_count": 2,
   "metadata": {
    "collapsed": false
   },
   "outputs": [],
   "source": [
    "import numpy as np\n",
    "import matplotlib.pyplot as plt\n",
    "\n",
    "ones = np.ones(100)\n",
    "slope = np.arange(0,1,0.2)\n",
    "slope_rev = list(reversed(slope))\n",
    "y = np.concatenate((0*ones,slope,ones,slope_rev,0*ones))\n",
    "x_err = np.arange(0,np.shape(y)[0],1)"
   ]
  },
  {
   "cell_type": "code",
   "execution_count": 3,
   "metadata": {
    "collapsed": false
   },
   "outputs": [],
   "source": [
    "sigma = 7e-2\n",
    "y_err = np.random.normal(0,sigma,np.shape(y)[0])+y"
   ]
  },
  {
   "cell_type": "code",
   "execution_count": 4,
   "metadata": {
    "collapsed": false
   },
   "outputs": [
    {
     "data": {
      "image/png": "[encoded data removed]",
      "text/plain": [
       "<matplotlib.figure.Figure at 0x8ad9780>"
      ]
     },
     "metadata": {},
     "output_type": "display_data"
    }
   ],
   "source": [
    "plt.plot(x_err,y_err, 'ob')\n",
    "plt.show()"
   ]
  },
  {
   "cell_type": "code",
   "execution_count": 5,
   "metadata": {
    "collapsed": false
   },
   "outputs": [
    {
     "name": "stdout",
     "output_type": "stream",
     "text": [
      "154\n"
     ]
    }
   ],
   "source": [
    "# divide the data \n",
    "length = len(x_err)\n",
    "x_mid = int((x_err[length-1]+x_err[0])/2.0)\n",
    "mid_index = list(x_err).index(x_mid)\n",
    "print mid_index"
   ]
  },
  {
   "cell_type": "code",
   "execution_count": 6,
   "metadata": {
    "collapsed": false
   },
   "outputs": [],
   "source": [
    "y_err_left = y_err[0:mid_index-1]\n",
    "x_left = x_err[0:mid_index-1]\n",
    "y_err_right = y_err[mid_index:length-1]\n",
    "x_right = x_err[mid_index:length-1]"
   ]
  },
  {
   "cell_type": "code",
   "execution_count": 7,
   "metadata": {
    "collapsed": false
   },
   "outputs": [
    {
     "name": "stdout",
     "output_type": "stream",
     "text": [
      "102.458481472\n"
     ]
    },
    {
     "data": {
      "image/png": "[encoded data removed]",
      "text/plain": [
       "<matplotlib.figure.Figure at 0x93b63c8>"
      ]
     },
     "metadata": {},
     "output_type": "display_data"
    }
   ],
   "source": [
    "# interpolate\n",
    "from scipy import interpolate\n",
    "f = interpolate.interp1d(y_err_left[99:150], x_left[99:150],kind='linear')\n",
    "y_new = np.arange(0.1, 0.9, 1e-3)\n",
    "plt.plot(f(y_new), y_new, linewidth = 5 )\n",
    "plt.plot(x_left, y_err_left, 'or')\n",
    "print f(0.5)"
   ]
  },
  {
   "cell_type": "code",
   "execution_count": 8,
   "metadata": {
    "collapsed": false
   },
   "outputs": [
    {
     "data": {
      "text/plain": [
       "[<matplotlib.lines.Line2D at 0xb698a58>]"
      ]
     },
     "execution_count": 8,
     "metadata": {},
     "output_type": "execute_result"
    },
    {
     "data": {
      "image/png": "[encoded data removed]",
      "text/plain": [
       "<matplotlib.figure.Figure at 0x8c4e470>"
      ]
     },
     "metadata": {},
     "output_type": "display_data"
    }
   ],
   "source": [
    "# differentiate the data\n",
    "#x = np.arange(0,np.pi,1e-2) \n",
    "#f = np.sin(x)\n",
    "#f_grad = np.gradient(f, 1e-2)\n",
    "#plt.plot(x,f_grad, 'or')\n",
    "#plt.plot(x,f, 'ob')\n",
    "\n",
    "y_err_deriv = np.gradient(y_err, 1)\n",
    "plt.plot(x_err,y_err_deriv, 'or')\n",
    "#plt.plot(x, y_err, 'ob')"
   ]
  },
  {
   "cell_type": "code",
   "execution_count": 9,
   "metadata": {
    "collapsed": false
   },
   "outputs": [
    {
     "data": {
      "text/plain": [
       "(array([  69.,  117.,   17.,    1.,    1.,    1.,    4.,   10.,   63.,   27.]),\n",
       " array([-0.16530856, -0.03250764,  0.10029327,  0.23309419,  0.3658951 ,\n",
       "         0.49869602,  0.63149694,  0.76429785,  0.89709877,  1.02989968,\n",
       "         1.1627006 ]),\n",
       " <a list of 10 Patch objects>)"
      ]
     },
     "execution_count": 9,
     "metadata": {},
     "output_type": "execute_result"
    },
    {
     "data": {
      "image/png": "[encoded data removed]",
      "text/plain": [
       "<matplotlib.figure.Figure at 0xb6600f0>"
      ]
     },
     "metadata": {},
     "output_type": "display_data"
    }
   ],
   "source": [
    "plt.hist(y_err)"
   ]
  },
  {
   "cell_type": "markdown",
   "metadata": {},
   "source": [
    "Find cluster with KMeans"
   ]
  },
  {
   "cell_type": "code",
   "execution_count": 10,
   "metadata": {
    "collapsed": false
   },
   "outputs": [
    {
     "name": "stdout",
     "output_type": "stream",
     "text": [
      "[0 0 0 0 0 0 0 0 0 0 0 0 0 0 0 0 0 0 0 0 0 0 0 0 0 0 0 0 0 0 0 0 0 0 0 0 0\n",
      " 0 0 0 0 0 0 0 0 0 0 0 0 0 0 0 0 0 0 0 0 0 0 0 0 0 0 0 0 0 0 0 0 0 0 0 0 0\n",
      " 0 0 0 0 0 0 0 0 0 0 0 0 0 0 0 0 0 0 0 0 0 0 0 0 0 0 0 0 0 1 1 1 1 1 1 1 1\n",
      " 1 1 1 1 1 1 1 1 1 1 1 1 1 1 1 1 1 1 1 1 1 1 1 1 1 1 1 1 1 1 1 1 1 1 1 1 1\n",
      " 1 1 1 1 1 1 1 1 1 1 1 1 1 1 1 1 1 1 1 1 1 1 1 1 1 1 1 1 1 1 1 1 1 1 1 1 1\n",
      " 1 1 1 1 1 1 1 1 1 1 1 1 1 1 1 1 1 1 1 1 1 1 1 0 0 0 0 0 0 0 0 0 0 0 0 0 0\n",
      " 0 0 0 0 0 0 0 0 0 0 0 0 0 0 0 0 0 0 0 0 0 0 0 0 0 0 0 0 0 0 0 0 0 0 0 0 0\n",
      " 0 0 0 0 0 0 0 0 0 0 0 0 0 0 0 0 0 0 0 0 0 0 0 0 0 0 0 0 0 0 0 0 0 0 0 0 0\n",
      " 0 0 0 0 0 0 0 0 0 0 0 0 0 0]\n",
      "[[ 0.00663831]\n",
      " [ 0.97773972]]\n"
     ]
    }
   ],
   "source": [
    "from sklearn.cluster import KMeans\n",
    "\n",
    "data = y_err.reshape(-1,1)\n",
    "kmeans = KMeans(n_clusters = 2).fit(data)\n",
    "labels = kmeans.labels_\n",
    "print labels\n",
    "print kmeans.cluster_centers_"
   ]
  },
  {
   "cell_type": "code",
   "execution_count": 11,
   "metadata": {
    "collapsed": false
   },
   "outputs": [],
   "source": [
    "# label cluster in the same way  \n",
    "if labels[0]==1:\n",
    "    labels =[0 if elem ==1 else 1 for elem in labels]"
   ]
  },
  {
   "cell_type": "code",
   "execution_count": 12,
   "metadata": {
    "collapsed": false
   },
   "outputs": [],
   "source": [
    "cluster1_x, cluster1_y = [],[]\n",
    "cluster2_x, cluster2_y = [],[]\n",
    "\n",
    "for index, item in enumerate(labels):\n",
    "    if item ==0:\n",
    "        cluster1_x.append(x_err[index])\n",
    "        cluster1_y.append(y_err[index])\n",
    "        \n",
    "    if item ==1:\n",
    "        cluster2_x.append(x_err[index])\n",
    "        cluster2_y.append(y_err[index])         "
   ]
  },
  {
   "cell_type": "code",
   "execution_count": 13,
   "metadata": {
    "collapsed": false
   },
   "outputs": [
    {
     "data": {
      "image/png": "[encoded data removed]",
      "text/plain": [
       "<matplotlib.figure.Figure at 0xbeb6c88>"
      ]
     },
     "metadata": {},
     "output_type": "display_data"
    }
   ],
   "source": [
    "plt.plot(cluster1_x, cluster1_y, 'ob')\n",
    "plt.plot(cluster2_x, cluster2_y, 'or')\n",
    "plt.show()"
   ]
  },
  {
   "cell_type": "markdown",
   "metadata": {},
   "source": [
    "Removing data outliers"
   ]
  },
  {
   "cell_type": "code",
   "execution_count": 14,
   "metadata": {
    "collapsed": true
   },
   "outputs": [],
   "source": [
    "def norm(data):\n",
    "    data = np.array(data)\n",
    "    print 'mean: {0}, std {1}'.format(data.mean(), data.std())\n",
    "    return (data-data.mean())/data.std()"
   ]
  },
  {
   "cell_type": "code",
   "execution_count": 15,
   "metadata": {
    "collapsed": false
   },
   "outputs": [],
   "source": [
    "# remove outlier\n",
    "def get_outlier_index(cluster):\n",
    "    ''' :param cluster: cluster values (y values)  \n",
    "        :return: index list of outliers\n",
    "    '''  \n",
    "    index_list = []\n",
    "    cluster_norm = norm(cluster)\n",
    "    for index, item in enumerate(cluster_norm):\n",
    "        # item in std\n",
    "        if abs(item) > 1.5:\n",
    "            index_list.append(index)\n",
    "    return index_list       "
   ]
  },
  {
   "cell_type": "code",
   "execution_count": 16,
   "metadata": {
    "collapsed": true
   },
   "outputs": [],
   "source": [
    "def remove_outliers(cluster, index_list):\n",
    "    '''\n",
    "    :param cluster: list of x, list of y values\n",
    "    :param index_list: indices of values to delete\n",
    "    :return: cluster without outliers\n",
    "    '''\n",
    "    cluster_out = []\n",
    "    for data in cluster:\n",
    "        data_out = np.delete(data, index_list)\n",
    "        cluster_out.append(data_out)\n",
    "    return cluster_out    "
   ]
  },
  {
   "cell_type": "code",
   "execution_count": 17,
   "metadata": {
    "collapsed": false
   },
   "outputs": [],
   "source": [
    "def clean_data(cluster, num_it):\n",
    "    '''\n",
    "    :param cluster: list of x, list of y values\n",
    "    :num_it: number of iterations\n",
    "    :return: cleaned cluster with outliers removed\n",
    "    '''\n",
    "    for i in range(0,num_it): \n",
    "        index_list = get_outlier_index(cluster[1])\n",
    "        cluster_clean = remove_outliers(cluster, index_list)\n",
    "        cluster = cluster_clean\n",
    "    return cluster"
   ]
  },
  {
   "cell_type": "code",
   "execution_count": 23,
   "metadata": {
    "collapsed": false
   },
   "outputs": [
    {
     "name": "stdout",
     "output_type": "stream",
     "text": [
      "mean: 0.00663830931197, std 0.0786166571616\n",
      "mean: 0.00105608165209, std 0.0567139044583\n",
      "mean: 0.97773972272, std 0.0975952461841\n",
      "mean: 0.98800673745, std 0.063970611676\n"
     ]
    }
   ],
   "source": [
    "cluster1 = [cluster1_x, cluster1_y]\n",
    "cluster2 = [cluster2_x, cluster2_y]\n",
    "cluster = [cluster1, cluster2]\n",
    "for elem in cluster:\n",
    "    data = clean_data(elem, 2)\n",
    "    if elem == cluster1:        \n",
    "        cluster1_clean_x = data[0]\n",
    "        cluster1_clean_y = data[1]\n",
    "    else:\n",
    "        cluster2_clean_x = data[0]\n",
    "        cluster2_clean_y = data[1]"
   ]
  },
  {
   "cell_type": "code",
   "execution_count": 24,
   "metadata": {
    "collapsed": false
   },
   "outputs": [
    {
     "data": {
      "image/png": "[encoded data removed]",
      "text/plain": [
       "<matplotlib.figure.Figure at 0xc18bb00>"
      ]
     },
     "metadata": {},
     "output_type": "display_data"
    }
   ],
   "source": [
    "plt.plot(cluster1_clean_x, cluster1_clean_y, 'ob')\n",
    "plt.plot(cluster2_clean_x, cluster2_clean_y, 'or')\n",
    "plt.show()"
   ]
  },
  {
   "cell_type": "code",
   "execution_count": 23,
   "metadata": {
    "collapsed": false
   },
   "outputs": [
    {
     "data": {
      "text/plain": [
       "0.49513991263632673"
      ]
     },
     "execution_count": 23,
     "metadata": {},
     "output_type": "execute_result"
    }
   ],
   "source": [
    "y_1 = cluster1_clean_y.mean()\n",
    "y_2 = cluster2_clean_y.mean()\n",
    "y_HW = np.abs(y_1-y_2)/2.0\n",
    "y_HW"
   ]
  },
  {
   "cell_type": "code",
   "execution_count": 24,
   "metadata": {
    "collapsed": false
   },
   "outputs": [
    {
     "data": {
      "text/plain": [
       "[<matplotlib.lines.Line2D at 0xcadb080>]"
      ]
     },
     "execution_count": 24,
     "metadata": {},
     "output_type": "execute_result"
    },
    {
     "data": {
      "image/png": "[encoded data removed]",
      "text/plain": [
       "<matplotlib.figure.Figure at 0xbddaf98>"
      ]
     },
     "metadata": {},
     "output_type": "display_data"
    }
   ],
   "source": [
    "# difference between x,y and x_err,y_err\n",
    "y = np.concatenate((np.array(cluster1_clean_y),np.array(cluster2_clean_y)))\n",
    "x = np.concatenate((np.array(cluster1_clean_x),np.array(cluster2_clean_x)))\n",
    "\n",
    "set_y = set(y)\n",
    "set_x = set(x)\n",
    "\n",
    "diff_y = [value for value in y_err if value not in set_y]\n",
    "diff_x = [value for value in x_err if value not in set_x]\n",
    "plt.plot(diff_x,diff_y, 'or')\n"
   ]
  },
  {
   "cell_type": "code",
   "execution_count": 25,
   "metadata": {
    "collapsed": true
   },
   "outputs": [],
   "source": [
    "from operator import itemgetter\n",
    "def sort_and_split(x,y):\n",
    "    \"\"\"\n",
    "    :param x: x values\n",
    "    :param y: y values\n",
    "    :return: sorted and splitted (by half) points, first left(x,y), then right(x,y)\n",
    "    \"\"\"\n",
    "    x_y_sorted = sorted(zip(x,y), key = itemgetter(0))\n",
    "    mid = int(len(x_y_sorted)/2.0)\n",
    "    x_y_sorted_left = x_y_sorted[0:mid-1]\n",
    "    x_y_sorted_right = x_y_sorted[mid:len(x_y_sorted)-1] \n",
    "    return map(list,zip(*x_y_sorted_left)), map(list,zip(*x_y_sorted_right))      "
   ]
  },
  {
   "cell_type": "code",
   "execution_count": 26,
   "metadata": {
    "collapsed": false
   },
   "outputs": [],
   "source": [
    "# sort and split the points removed by remove_outliers\n",
    "points = sort_and_split(diff_x,diff_y)\n",
    "x_left = points[0][0]\n",
    "y_left = points[0][1]\n",
    "x_right = points[1][0]\n",
    "y_right = points[1][1]"
   ]
  },
  {
   "cell_type": "code",
   "execution_count": 27,
   "metadata": {
    "collapsed": false
   },
   "outputs": [
    {
     "name": "stdout",
     "output_type": "stream",
     "text": [
      "102.079508431 208.220566065\n"
     ]
    },
    {
     "data": {
      "image/png": "[encoded data removed]",
      "text/plain": [
       "<matplotlib.figure.Figure at 0xbe65828>"
      ]
     },
     "metadata": {},
     "output_type": "display_data"
    }
   ],
   "source": [
    "# interpolate\n",
    "from scipy import interpolate\n",
    "f_left = interpolate.interp1d(y_left, x_left,kind='linear')\n",
    "f_right = interpolate.interp1d(y_right, x_right,kind='linear')\n",
    "y_new = np.arange(0.2, 0.8, 1e-3)\n",
    "plt.plot(x_left, y_left, 'or')\n",
    "plt.plot(x_right, y_right, 'ob')\n",
    "plt.plot(f_left(y_new), y_new, linewidth = 5, color = 'black')\n",
    "plt.plot(f_right(y_new), y_new, linewidth = 5, color = 'black')\n",
    "print f_left(y_HW), f_right(y_HW)"
   ]
  },
  {
   "cell_type": "markdown",
   "metadata": {},
   "source": [
    "1. Take the mean of cluster 1 and 2 as y_min and y_max. The values for the half maximum is y_HM = (y_max-y_min)/2.\n",
    "2. Bottom line: Take the index of the x value of the cleaned cluster 1 where the gap is. The x and y values in between can be used for interpolation. Top line: Take the index of the smalles and the largest x value. \n",
    "3. Interpolate x =f(y) and calculate f(y_HM) for both sides. "
   ]
  },
  {
   "cell_type": "markdown",
   "metadata": {},
   "source": [
    "Fitting"
   ]
  },
  {
   "cell_type": "code",
   "execution_count": null,
   "metadata": {
    "collapsed": false
   },
   "outputs": [],
   "source": [
    "from scipy.optimize import curve_fit\n",
    "from scipy.special import erf\n",
    "import numpy as np\n",
    "\n",
    "def func(x,a,sigma, x_0):\n",
    "    return a*erf((x-x_0)/sigma*1/np.sqrt(2))"
   ]
  },
  {
   "cell_type": "code",
   "execution_count": null,
   "metadata": {
    "collapsed": false
   },
   "outputs": [],
   "source": [
    "x = np.arange(-10,10,0.1)\n",
    "y = func(x,10,2.5,2)+np.random.normal(0,0.5, x.shape[0])"
   ]
  },
  {
   "cell_type": "code",
   "execution_count": null,
   "metadata": {
    "collapsed": false
   },
   "outputs": [],
   "source": [
    "param = curve_fit(func,x,y)[0]\n",
    "curve_fit(func,x,y)[1]"
   ]
  },
  {
   "cell_type": "code",
   "execution_count": null,
   "metadata": {
    "collapsed": false
   },
   "outputs": [],
   "source": [
    "plt.plot(x,y, 'or')\n",
    "plt.plot(x,func(x,param[0], param[1], param[2]), '-b', linewidth = 2)\n",
    "plt.show()"
   ]
  },
  {
   "cell_type": "markdown",
   "metadata": {},
   "source": [
    "Test code "
   ]
  },
  {
   "cell_type": "code",
   "execution_count": null,
   "metadata": {
    "collapsed": false
   },
   "outputs": [],
   "source": [
    "print '/*.TI/*'"
   ]
  },
  {
   "cell_type": "code",
   "execution_count": null,
   "metadata": {
    "collapsed": false
   },
   "outputs": [],
   "source": [
    "a = [1,2]\n",
    "bool(a)\n",
    "a.pop(0)\n",
    "a"
   ]
  },
  {
   "cell_type": "code",
   "execution_count": null,
   "metadata": {
    "collapsed": false
   },
   "outputs": [],
   "source": [
    "import numpy as np\n",
    "a = np.array([1,2,3])\n",
    "b = np.array([3,3,3])\n",
    "c = a==b\n",
    "float(c.sum())/c.shape[0]"
   ]
  },
  {
   "cell_type": "code",
   "execution_count": null,
   "metadata": {
    "collapsed": false
   },
   "outputs": [],
   "source": [
    "c.shape[0]"
   ]
  },
  {
   "cell_type": "code",
   "execution_count": null,
   "metadata": {
    "collapsed": true
   },
   "outputs": [],
   "source": [
    "def find_subsequence(seq, subseq):\n",
    "    target = np.dot(subseq, subseq)\n",
    "    candidates = np.where(np.correlate(seq,\n",
    "                                       subseq, mode='valid') == target)[0]\n",
    "    # some of the candidates entries may be false positives, double check\n",
    "    check = candidates[:, np.newaxis] + np.arange(len(subseq))\n",
    "    mask = np.all((np.take(seq, check) == subseq), axis=-1)\n",
    "    return candidates[mask]"
   ]
  },
  {
   "cell_type": "code",
   "execution_count": null,
   "metadata": {
    "collapsed": false
   },
   "outputs": [],
   "source": [
    "pattern = np.array([1,1,1])\n",
    "array = np.array([-10,-8,1,1,1,1,2,-9,1,1])\n",
    "find_subsequence(array, pattern)"
   ]
  },
  {
   "cell_type": "code",
   "execution_count": null,
   "metadata": {
    "collapsed": false
   },
   "outputs": [],
   "source": [
    "from operator import itemgetter\n",
    "l = [(0,1),(1,4),(2,7),(1,1.5),(2,6.7),(0,0.9)]\n",
    "sorted(l, key = itemgetter(0))"
   ]
  },
  {
   "cell_type": "code",
   "execution_count": 25,
   "metadata": {
    "collapsed": true
   },
   "outputs": [],
   "source": [
    "def func(a,b):\n",
    "    return a+b, a-b"
   ]
  },
  {
   "cell_type": "code",
   "execution_count": 29,
   "metadata": {
    "collapsed": false
   },
   "outputs": [
    {
     "name": "stdout",
     "output_type": "stream",
     "text": [
      "3\n",
      "-1\n"
     ]
    }
   ],
   "source": [
    "x,y = func(1,2)\n",
    "print x\n",
    "print y"
   ]
  },
  {
   "cell_type": "code",
   "execution_count": null,
   "metadata": {
    "collapsed": true
   },
   "outputs": [],
   "source": []
  }
 ],
 "metadata": {
  "anaconda-cloud": {},
  "kernelspec": {
   "display_name": "Python [conda root]",
   "language": "python",
   "name": "conda-root-py"
  },
  "language_info": {
   "codemirror_mode": {
    "name": "ipython",
    "version": 2
   },
   "file_extension": ".py",
   "mimetype": "text/x-python",
   "name": "python",
   "nbconvert_exporter": "python",
   "pygments_lexer": "ipython2",
   "version": "2.7.12"
  }
 },
 "nbformat": 4,
 "nbformat_minor": 0
}
